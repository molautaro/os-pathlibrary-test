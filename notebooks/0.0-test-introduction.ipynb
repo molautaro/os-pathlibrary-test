{
 "cells": [
  {
   "attachments": {},
   "cell_type": "markdown",
   "metadata": {},
   "source": [
    "# OS Library"
   ]
  },
  {
   "cell_type": "code",
   "execution_count": 13,
   "metadata": {},
   "outputs": [],
   "source": [
    "import os\n",
    "\n",
    "current_dir = os.getcwd()\n",
    "data_dir = os.path.join(current_dir,os.pardir,\"data\",\"raw\")\n",
    "#os.pardir es igual a poner \"..\", pardir means parent directory\n",
    "os.path.exists(data_dir)  # Revisa si el path existe\n",
    "os.path.isdir(data_dir)  # Revisa si es un directorio\n",
    "\n",
    "os.listdir(data_dir)  # Itera por los archivos dentro del directorio\n",
    "\n",
    "os.mkdir(os.path.join(data_dir, \"os\"))  # Crea la carpeta *\"os\"*\n",
    "os.open(os.path.join(data_dir, \"os.txt\"),os.O_RDWR | os.O_CREAT, 0o777)\n",
    "os.rmdir(os.path.join(data_dir, \"os\")) # eliminar carpeta\n",
    "os.remove(os.path.join(data_dir, \"os.txt\")) # eliminar archivo"
   ]
  },
  {
   "attachments": {},
   "cell_type": "markdown",
   "metadata": {},
   "source": [
    "# Pathlib library"
   ]
  },
  {
   "cell_type": "code",
   "execution_count": 47,
   "metadata": {},
   "outputs": [
    {
     "name": "stdout",
     "output_type": "stream",
     "text": [
      "[PosixPath('/home/lauta/Platzi/test/data/raw/<nombre_carpeta>')]\n"
     ]
    }
   ],
   "source": [
    "import pathlib\n",
    "\n",
    "pathlib.Path()  # Genera un objeto Unix Path o \n",
    "\n",
    "CURRENT_DIR = pathlib.Path().resolve()  # Path local completo\n",
    "DATA_DIR = CURRENT_DIR.parent.joinpath(\"data\", \"raw\")  # Directorio objetivo\n",
    "\n",
    "DATA_DIR.exists()  # Revisa si el directorio existe\n",
    "DATA_DIR.is_dir()  # Revisa si es un directorio\n",
    "\n",
    "#Puedes crear una carpeta dentro de un directorio, usando el método “mkdir”:\n",
    "\n",
    "DATA_DIR.joinpath(\"<nombre_carpeta>\").mkdir(exist_ok=True)\n",
    "DATA_DIR.joinpath(\"<nombre_carpeta>\",'file3').touch()\n",
    "#Para buscar la ruta de un archivo dentro del proyecto, usando regex:\n",
    "\n",
    "list(DATA_DIR.joinpath(\"<nombre_carpeta>\").glob(\"*\"))#lista de archivos en la carpeta\n",
    "#print(list(DATA_DIR.glob(\"<nombre_carpeta>\")))"
   ]
  },
  {
   "cell_type": "code",
   "execution_count": 38,
   "metadata": {},
   "outputs": [
    {
     "data": {
      "text/plain": [
       "PosixPath('/home/lauta/Platzi/test/data/raw')"
      ]
     },
     "execution_count": 38,
     "metadata": {},
     "output_type": "execute_result"
    }
   ],
   "source": [
    "DATA_DIR"
   ]
  },
  {
   "attachments": {},
   "cell_type": "markdown",
   "metadata": {},
   "source": [
    "# PyFilesystem2"
   ]
  },
  {
   "cell_type": "code",
   "execution_count": 49,
   "metadata": {},
   "outputs": [
    {
     "name": "stdout",
     "output_type": "stream",
     "text": [
      "Defaulting to user installation because normal site-packages is not writeable\n",
      "Collecting fs\n",
      "  Downloading fs-2.4.16-py2.py3-none-any.whl (135 kB)\n",
      "\u001b[2K     \u001b[90m━━━━━━━━━━━━━━━━━━━━━━━━━━━━━━━━━━━━━━━\u001b[0m \u001b[32m135.3/135.3 KB\u001b[0m \u001b[31m1.1 MB/s\u001b[0m eta \u001b[36m0:00:00\u001b[0ma \u001b[36m0:00:01\u001b[0m\n",
      "\u001b[?25hRequirement already satisfied: setuptools in /usr/lib/python3/dist-packages (from fs) (59.6.0)\n",
      "Collecting appdirs~=1.4.3\n",
      "  Downloading appdirs-1.4.4-py2.py3-none-any.whl (9.6 kB)\n",
      "Requirement already satisfied: six~=1.10 in /usr/lib/python3/dist-packages (from fs) (1.16.0)\n",
      "Installing collected packages: appdirs, fs\n",
      "Successfully installed appdirs-1.4.4 fs-2.4.16\n"
     ]
    }
   ],
   "source": [
    "!pip install fs"
   ]
  },
  {
   "cell_type": "code",
   "execution_count": 74,
   "metadata": {},
   "outputs": [
    {
     "ename": "DirectoryExists",
     "evalue": "directory 'Pyfilesistem2_folder_test' exists",
     "output_type": "error",
     "traceback": [
      "\u001b[0;31m---------------------------------------------------------------------------\u001b[0m",
      "\u001b[0;31mFileExistsError\u001b[0m                           Traceback (most recent call last)",
      "File \u001b[0;32m~/.local/lib/python3.10/site-packages/fs/osfs.py:334\u001b[0m, in \u001b[0;36mOSFS.makedir\u001b[0;34m(self, path, permissions, recreate)\u001b[0m\n\u001b[1;32m    333\u001b[0m \u001b[39mtry\u001b[39;00m:\n\u001b[0;32m--> 334\u001b[0m     os\u001b[39m.\u001b[39;49mmkdir(sys_path, mode)\n\u001b[1;32m    335\u001b[0m \u001b[39mexcept\u001b[39;00m \u001b[39mOSError\u001b[39;00m \u001b[39mas\u001b[39;00m error:\n",
      "\u001b[0;31mFileExistsError\u001b[0m: [Errno 17] File exists: b'/home/lauta/Platzi/test/data/raw/Pyfilesistem2_folder_test'",
      "\nDuring handling of the above exception, another exception occurred:\n",
      "\u001b[0;31mDirectoryExists\u001b[0m                           Traceback (most recent call last)",
      "Cell \u001b[0;32mIn[74], line 12\u001b[0m\n\u001b[1;32m     10\u001b[0m DATA_DIR \u001b[39m=\u001b[39m fs\u001b[39m.\u001b[39mopen_fs(\u001b[39m\"\u001b[39m\u001b[39m../data/raw\u001b[39m\u001b[39m\"\u001b[39m)\n\u001b[1;32m     11\u001b[0m DATA_DIR\u001b[39m.\u001b[39mlistdir(\u001b[39m\"\u001b[39m\u001b[39m.\u001b[39m\u001b[39m\"\u001b[39m)\n\u001b[0;32m---> 12\u001b[0m DATA_DIR\u001b[39m.\u001b[39;49mmakedir(\u001b[39m\"\u001b[39;49m\u001b[39mPyfilesistem2_folder_test\u001b[39;49m\u001b[39m\"\u001b[39;49m)\n",
      "File \u001b[0;32m~/.local/lib/python3.10/site-packages/fs/osfs.py:332\u001b[0m, in \u001b[0;36mOSFS.makedir\u001b[0;34m(self, path, permissions, recreate)\u001b[0m\n\u001b[1;32m    330\u001b[0m _path \u001b[39m=\u001b[39m \u001b[39mself\u001b[39m\u001b[39m.\u001b[39mvalidatepath(path)\n\u001b[1;32m    331\u001b[0m sys_path \u001b[39m=\u001b[39m \u001b[39mself\u001b[39m\u001b[39m.\u001b[39m_to_sys_path(_path)\n\u001b[0;32m--> 332\u001b[0m \u001b[39mwith\u001b[39;00m convert_os_errors(\u001b[39m\"\u001b[39m\u001b[39mmakedir\u001b[39m\u001b[39m\"\u001b[39m, path, directory\u001b[39m=\u001b[39m\u001b[39mTrue\u001b[39;00m):\n\u001b[1;32m    333\u001b[0m     \u001b[39mtry\u001b[39;00m:\n\u001b[1;32m    334\u001b[0m         os\u001b[39m.\u001b[39mmkdir(sys_path, mode)\n",
      "File \u001b[0;32m~/.local/lib/python3.10/site-packages/fs/error_tools.py:89\u001b[0m, in \u001b[0;36m_ConvertOSErrors.__exit__\u001b[0;34m(self, exc_type, exc_value, traceback)\u001b[0m\n\u001b[1;32m     87\u001b[0m     \u001b[39mif\u001b[39;00m \u001b[39mgetattr\u001b[39m(exc_value, \u001b[39m\"\u001b[39m\u001b[39margs\u001b[39m\u001b[39m\"\u001b[39m, \u001b[39mNone\u001b[39;00m) \u001b[39m==\u001b[39m \u001b[39m32\u001b[39m:  \u001b[39m# pragma: no cover\u001b[39;00m\n\u001b[1;32m     88\u001b[0m         fserror \u001b[39m=\u001b[39m errors\u001b[39m.\u001b[39mResourceLocked\n\u001b[0;32m---> 89\u001b[0m reraise(fserror, fserror(\u001b[39mself\u001b[39;49m\u001b[39m.\u001b[39;49m_path, exc\u001b[39m=\u001b[39;49mexc_value), traceback)\n",
      "File \u001b[0;32m/usr/lib/python3/dist-packages/six.py:718\u001b[0m, in \u001b[0;36mreraise\u001b[0;34m(tp, value, tb)\u001b[0m\n\u001b[1;32m    716\u001b[0m         value \u001b[39m=\u001b[39m tp()\n\u001b[1;32m    717\u001b[0m     \u001b[39mif\u001b[39;00m value\u001b[39m.\u001b[39m__traceback__ \u001b[39mis\u001b[39;00m \u001b[39mnot\u001b[39;00m tb:\n\u001b[0;32m--> 718\u001b[0m         \u001b[39mraise\u001b[39;00m value\u001b[39m.\u001b[39mwith_traceback(tb)\n\u001b[1;32m    719\u001b[0m     \u001b[39mraise\u001b[39;00m value\n\u001b[1;32m    720\u001b[0m \u001b[39mfinally\u001b[39;00m:\n",
      "File \u001b[0;32m~/.local/lib/python3.10/site-packages/fs/osfs.py:334\u001b[0m, in \u001b[0;36mOSFS.makedir\u001b[0;34m(self, path, permissions, recreate)\u001b[0m\n\u001b[1;32m    332\u001b[0m \u001b[39mwith\u001b[39;00m convert_os_errors(\u001b[39m\"\u001b[39m\u001b[39mmakedir\u001b[39m\u001b[39m\"\u001b[39m, path, directory\u001b[39m=\u001b[39m\u001b[39mTrue\u001b[39;00m):\n\u001b[1;32m    333\u001b[0m     \u001b[39mtry\u001b[39;00m:\n\u001b[0;32m--> 334\u001b[0m         os\u001b[39m.\u001b[39;49mmkdir(sys_path, mode)\n\u001b[1;32m    335\u001b[0m     \u001b[39mexcept\u001b[39;00m \u001b[39mOSError\u001b[39;00m \u001b[39mas\u001b[39;00m error:\n\u001b[1;32m    336\u001b[0m         \u001b[39mif\u001b[39;00m error\u001b[39m.\u001b[39merrno \u001b[39m==\u001b[39m errno\u001b[39m.\u001b[39mENOENT:\n",
      "\u001b[0;31mDirectoryExists\u001b[0m: directory 'Pyfilesistem2_folder_test' exists"
     ]
    }
   ],
   "source": [
    "import fs\n",
    "\n",
    "fs.open_fs(\".\")  # Abreuna conexiónconel path actual (OSFS)\n",
    "\n",
    "CURRENT_DIR = fs.open_fs(\".\")\n",
    "ROOT_DIR = fs.open_fs(\"../\") #CARPETA PRINCIPAL\n",
    "CURRENT_DIR.exists(\".\")  # Revisa siel directorio existe\n",
    "ROOT_DIR.listdir(\".\")  # Muestra el contenido dentro dela ruta.\n",
    "\n",
    "DATA_DIR = fs.open_fs(\"../data/raw\")\n",
    "DATA_DIR.listdir(\".\")\n",
    "DATA_DIR.makedir(\"Pyfilesistem2_folder_test\")\n"
   ]
  },
  {
   "attachments": {},
   "cell_type": "markdown",
   "metadata": {},
   "source": [
    "# Referencias relativas de archivos\n",
    "## Implementacion PyProjRoot"
   ]
  },
  {
   "cell_type": "code",
   "execution_count": 3,
   "metadata": {},
   "outputs": [
    {
     "name": "stdout",
     "output_type": "stream",
     "text": [
      "Defaulting to user installation because normal site-packages is not writeable\n",
      "Collecting pyprojroot\n",
      "  Downloading pyprojroot-0.3.0-py3-none-any.whl (7.6 kB)\n",
      "Collecting typing-extensions\n",
      "  Downloading typing_extensions-4.5.0-py3-none-any.whl (27 kB)\n",
      "Installing collected packages: typing-extensions, pyprojroot\n",
      "Successfully installed pyprojroot-0.3.0 typing-extensions-4.5.0\n"
     ]
    }
   ],
   "source": [
    "!pip install pyprojroot"
   ]
  },
  {
   "cell_type": "code",
   "execution_count": 12,
   "metadata": {},
   "outputs": [
    {
     "data": {
      "text/plain": [
       "PosixPath('/home/lauta/Platzi/test')"
      ]
     },
     "execution_count": 12,
     "metadata": {},
     "output_type": "execute_result"
    }
   ],
   "source": [
    "import pyprojroot\n",
    "pyprojroot.here() # Esto es un Posix Path (pathlib)\n",
    "# El path que devuelve se construye de la raiz, no desde el path del \n",
    "# archivo que lo ejecuta. \n",
    "# pyprojroot.here().joinpath(\"data\",\"raw\")\n",
    "\n"
   ]
  },
  {
   "cell_type": "code",
   "execution_count": 10,
   "metadata": {},
   "outputs": [
    {
     "name": "stdout",
     "output_type": "stream",
     "text": [
      "Defaulting to user installation because normal site-packages is not writeable\n",
      "Collecting pyhere\n",
      "  Downloading pyhere-1.0.0-py3-none-any.whl (4.2 kB)\n",
      "Installing collected packages: pyhere\n",
      "Successfully installed pyhere-1.0.0\n"
     ]
    }
   ],
   "source": [
    "!pip install pyhere"
   ]
  },
  {
   "cell_type": "code",
   "execution_count": 11,
   "metadata": {},
   "outputs": [
    {
     "data": {
      "text/plain": [
       "PosixPath('/home/lauta/Platzi/test/notebooks/..')"
      ]
     },
     "execution_count": 11,
     "metadata": {},
     "output_type": "execute_result"
    }
   ],
   "source": [
    "import pyhere\n",
    "pyhere.here() # También regresa un Posix Path\n",
    "# En este caso el path devuelve el directorio donde esta el archivo"
   ]
  },
  {
   "cell_type": "code",
   "execution_count": 18,
   "metadata": {},
   "outputs": [
    {
     "data": {
      "text/plain": [
       "PosixPath('/home/lauta/Platzi/test/data/raw/Pyfilesistem2_folder_test')"
      ]
     },
     "execution_count": 18,
     "metadata": {},
     "output_type": "execute_result"
    }
   ],
   "source": [
    "pyprojroot.here(\"data/raw/Pyfilesistem2_folder_test\")"
   ]
  },
  {
   "cell_type": "code",
   "execution_count": 21,
   "metadata": {},
   "outputs": [
    {
     "data": {
      "text/plain": [
       "PosixPath('/home/lauta/Platzi/test')"
      ]
     },
     "execution_count": 21,
     "metadata": {},
     "output_type": "execute_result"
    }
   ],
   "source": [
    "pyhere.here().resolve() # regresa path del archivo raiz"
   ]
  },
  {
   "cell_type": "code",
   "execution_count": 22,
   "metadata": {},
   "outputs": [
    {
     "data": {
      "text/plain": [
       "PosixPath('/home/lauta/Platzi/test/data')"
      ]
     },
     "execution_count": 22,
     "metadata": {},
     "output_type": "execute_result"
    }
   ],
   "source": [
    "pyhere.here().resolve() / \"data\" # con / vamos a distintos subdirectorios"
   ]
  },
  {
   "cell_type": "code",
   "execution_count": 14,
   "metadata": {},
   "outputs": [
    {
     "data": {
      "text/plain": [
       "PosixPath('/home/lauta/Platzi/test/data/raw')"
      ]
     },
     "execution_count": 14,
     "metadata": {},
     "output_type": "execute_result"
    }
   ],
   "source": [
    "pyprojroot.here(\"data\").joinpath(\"raw\")\n",
    "pyhere.here().resolve() / \"data\" / \"raw\""
   ]
  },
  {
   "cell_type": "code",
   "execution_count": 30,
   "metadata": {},
   "outputs": [
    {
     "data": {
      "text/plain": [
       "PosixPath('/home/lauta/Platzi/test/data/raw')"
      ]
     },
     "execution_count": 30,
     "metadata": {},
     "output_type": "execute_result"
    }
   ],
   "source": [
    "def make_dir_function(dir_name):\n",
    "    def dir_function(*args):\n",
    "        return pyprojroot.here().joinpath(dir_name, *args)\n",
    "    return dir_function\n",
    "\n",
    "\n",
    "data_dir = make_dir_function(\"data\") #crea funcion la cual toma como\n",
    "# su raiz el directorio \"data\"\n",
    "raw_dir = make_dir_function(\"data/raw\")\n",
    "#print(str(data_dir))\n",
    "raw_dir(\".\")\n",
    "#data_dir(\"raw\", \"pathlib\")  # Devuelve el path personalizado"
   ]
  }
 ],
 "metadata": {
  "kernelspec": {
   "display_name": "Python 3",
   "language": "python",
   "name": "python3"
  },
  "language_info": {
   "codemirror_mode": {
    "name": "ipython",
    "version": 3
   },
   "file_extension": ".py",
   "mimetype": "text/x-python",
   "name": "python",
   "nbconvert_exporter": "python",
   "pygments_lexer": "ipython3",
   "version": "3.10.6"
  },
  "orig_nbformat": 4
 },
 "nbformat": 4,
 "nbformat_minor": 2
}
